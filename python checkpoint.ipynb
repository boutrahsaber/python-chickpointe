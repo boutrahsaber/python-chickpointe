{
 "cells": [
  {
   "cell_type": "code",
   "execution_count": 2,
   "metadata": {},
   "outputs": [
    {
     "name": "stdout",
     "output_type": "stream",
     "text": [
      "[2002, 2009, 2016, 2023, 2037, 2044, 2051, 2058, 2072, 2079, 2086, 2093, 2107, 2114, 2121, 2128, 2142, 2149, 2156, 2163, 2177, 2184, 2191, 2198, 2212, 2219, 2226, 2233, 2247, 2254, 2261, 2268, 2282, 2289, 2296]\n"
     ]
    }
   ],
   "source": [
    "#Question 1\n",
    "res =[]\n",
    "for i in range(2000, 2300):\n",
    "    if (i % 7 ==  0) and (i % 5 != 0 ):\n",
    "        res.append(i)\n",
    "print(res)\n"
   ]
  },
  {
   "cell_type": "code",
   "execution_count": 3,
   "metadata": {},
   "outputs": [
    {
     "name": "stdout",
     "output_type": "stream",
     "text": [
      "<class 'int'>5\n",
      "120\n"
     ]
    }
   ],
   "source": [
    "#Question 2\n",
    "x=input(int)\n",
    "res = 1\n",
    "if int(x) == 0:\n",
    "    res = 1\n",
    "else:\n",
    "    for i in range(1,int(x)+1):\n",
    "        res = int(i)*res\n",
    "print(res)\n"
   ]
  },
  {
   "cell_type": "code",
   "execution_count": 4,
   "metadata": {},
   "outputs": [
    {
     "name": "stdout",
     "output_type": "stream",
     "text": [
      "<class 'int'>4\n",
      "{1: 1, 2: 4, 3: 9, 4: 16}\n"
     ]
    }
   ],
   "source": [
    "#Question 3\n",
    "import numpy as np\n",
    "n = input(int)\n",
    "dic = dict()\n",
    "\n",
    "for i in range(1, int(n)+1):\n",
    "    dic[i]= i*i\n",
    "print(dic)\n"
   ]
  },
  {
   "cell_type": "code",
   "execution_count": 6,
   "metadata": {},
   "outputs": [
    {
     "name": "stdout",
     "output_type": "stream",
     "text": [
      "GoMyCode\n",
      "4\n",
      "GoMyode\n"
     ]
    }
   ],
   "source": [
    "#Question 4\n",
    "string = input()\n",
    "n = input()\n",
    "res=\"\"\n",
    "\n",
    "for i in range(0, (len(string)-1)):\n",
    "    if i in range(0,int(n)):\n",
    "        res = res + string[i]\n",
    "        \n",
    "    else:\n",
    "        res = res + string[i+1]\n",
    "print(res)\n"
   ]
  },
  {
   "cell_type": "code",
   "execution_count": 7,
   "metadata": {},
   "outputs": [
    {
     "name": "stdout",
     "output_type": "stream",
     "text": [
      "arrray [[0 1]\n",
      " [2 3]\n",
      " [4 5]]\n",
      "list of arry:  [[0, 1], [2, 3], [4, 5]]\n"
     ]
    }
   ],
   "source": [
    "#Question 5\n",
    "import numpy as np\n",
    "arr = np.array([[0,1],[2,3],[4,5]])\n",
    "print(\"arrray\", arr)\n",
    "\n",
    "listarray = arr.tolist()\n",
    "print(\"list of arry: \",listarray)\n"
   ]
  },
  {
   "cell_type": "code",
   "execution_count": 8,
   "metadata": {},
   "outputs": [
    {
     "name": "stdout",
     "output_type": "stream",
     "text": [
      "[[0 1 2]\n",
      " [2 1 0]]\n"
     ]
    },
    {
     "data": {
      "text/plain": [
       "array([[ 1., -1.],\n",
       "       [-1.,  1.]])"
      ]
     },
     "execution_count": 8,
     "metadata": {},
     "output_type": "execute_result"
    }
   ],
   "source": [
    "#Question 6\n",
    "import numpy as np\n",
    "tab1 = np.array([0,1,2])\n",
    "tab2 = np.array([2,1,0])\n",
    "mat = np.array([tab1, tab2])\n",
    "print(mat)\n",
    "np.cov(mat)\n"
   ]
  },
  {
   "cell_type": "code",
   "execution_count": 11,
   "metadata": {},
   "outputs": [
    {
     "name": "stdout",
     "output_type": "stream",
     "text": [
      "siser une séquence des valeurs :1,2,3,4\n",
      "2\n",
      "3\n",
      "3\n",
      "4\n"
     ]
    }
   ],
   "source": [
    "#Question 7\n",
    "import math\n",
    "# [(2 * C * D)/H] \n",
    "C = 50\n",
    "H =30\n",
    "D = input(\"siser une séquence des valeurs :\")\n",
    "l = D.split(',')\n",
    "res = 0\n",
    "for i in range(0,len(D)):\n",
    "    if D[i] != ',':\n",
    "        res =math.sqrt((2*C*int(D[i]))/H)\n",
    "        print(round(res))\n"
   ]
  }
 ],
 "metadata": {
  "kernelspec": {
   "display_name": "Python 3",
   "language": "python",
   "name": "python3"
  },
  "language_info": {
   "codemirror_mode": {
    "name": "ipython",
    "version": 3
   },
   "file_extension": ".py",
   "mimetype": "text/x-python",
   "name": "python",
   "nbconvert_exporter": "python",
   "pygments_lexer": "ipython3",
   "version": "3.8.5"
  }
 },
 "nbformat": 4,
 "nbformat_minor": 4
}
